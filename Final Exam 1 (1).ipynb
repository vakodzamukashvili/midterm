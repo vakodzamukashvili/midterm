{
 "cells": [
  {
   "cell_type": "markdown",
   "id": "6db43aa9",
   "metadata": {},
   "source": [
    "Rename the file before submitting, you should change the filename to your first and last name"
   ]
  },
  {
   "cell_type": "markdown",
   "id": "5a14dcef",
   "metadata": {},
   "source": [
    "# 📝 Python Final Exam (40 Points)"
   ]
  },
  {
   "cell_type": "markdown",
   "id": "1b9385fc",
   "metadata": {},
   "source": [
    "## **General Guidelines:**  \n",
    "- This is a closed-book exam. **Internet searches are NOT allowed!**  \n",
    "- You must complete **all questions** in this Jupyter Notebook.  \n",
    "- **Plagiarism is strictly prohibited.** Any identical or highly similar submissions will be flagged.  \n",
    "- You are only allowed to use functions and concepts that were covered in the lectures. Using any functions or libraries beyond what was taught will result in a deduction of points.  \n",
    "- The total time for this exam is **3 hours**. Manage your time wisely.  \n",
    "- Your code should be clear, structured, and follow good programming practices.  "
   ]
  },
  {
   "cell_type": "markdown",
   "id": "f8470022",
   "metadata": {},
   "source": [
    "## **Submission Instructions:**  \n",
    "- **Explain your thought process before coding** for each question. Include:  \n",
    "  - Your step-by-step approach to solving the problem.  \n",
    "  - Any assumptions or constraints.  \n",
    "- <span style=\"color:red\">**No explanation = 0 score.**</span>  \n",
    "\n",
    "**Example Answer Format:**  \n",
    "Question: Write a function that sums all even numbers in a list.  \n",
    "\n",
    "Explanation (Before Coding):  \n",
    "- Define a function to take a list as input.  \n",
    "- Iterate through the list, checking if each number is even (divisible by 2).  \n",
    "- Add even numbers to a running sum and return the total.  "
   ]
  },
  {
   "cell_type": "markdown",
   "id": "be627267",
   "metadata": {},
   "source": [
    "### Melody Archive"
   ]
  },
  {
   "cell_type": "markdown",
   "id": "deefffca",
   "metadata": {},
   "source": [
    "You are a music curator at the \"Melody Archive,\" and your task is to organize and analyze data about the songs in the collection. You will use Python to solve the following challenges, such as categorizing songs by genre, calculating average song lengths, and identifying the most popular artists. </br>\n",
    "<span style=\"color:red\">Print the results of each tasks</span>  "
   ]
  },
  {
   "cell_type": "markdown",
   "id": "8a60d2db",
   "metadata": {},
   "source": [
    "## Problem 1: Data Manipulation and Analysis Using Pandas (13 points)"
   ]
  },
  {
   "cell_type": "markdown",
   "id": "5d2eb422",
   "metadata": {},
   "source": [
    "This problem evaluates students' proficiency in manipulating and analyzing data using the Pandas library. It encompasses a comprehensive range of essential DataFrame operations."
   ]
  },
  {
   "cell_type": "markdown",
   "id": "504dbb6c",
   "metadata": {},
   "source": [
    "1. **Create a Pandas Series**  \n",
    "   Generate a Pandas Series containing your personal favorite song titles.\n",
    "\n",
    "2. **Create a DataFrame with Artist Information**  \n",
    "   Using the Series created in Task 1, construct a DataFrame with an additional column named `artist` that includes the corresponding artists for each song.\n",
    "\n",
    "3. **Create a DataFrame from a List of Dictionaries**  \n",
    "   Construct a DataFrame from a list of dictionaries, where each dictionary contains the following keys: `title`, `artist`, `genre`, `year`, `duration`, and `popularity`. Populate this DataFrame with your personal favorite song titles.\n",
    "\n",
    "4. **Add a New Column**  \n",
    "   Introduce a new column of your choice to the DataFrame created in Task 3. Ensure the column is relevant to the songs in the DataFrame.\n",
    "\n",
    "5. **Retrieve and Print Specific Columns**  \n",
    "   From the DataFrame created in Task 3, extract and print the first 10 rows, displaying only the `title` and `artist` columns.\n",
    "\n",
    "6. **Filter and Display Specific Rows**  \n",
    "   Filter the DataFrame to include only rows where the `genre` is \"Pop\". Print the resulting rows, displaying only the `title` and `year` columns.\n",
    "\n",
    "7. **Retrieve Unique Genre Values**  \n",
    "   From your DataFrame, extract and print the unique values present in the `genre` column.\n",
    "\n",
    "8. **Filter Songs by Release Year**  \n",
    "   Filter your DataFrame to include only songs released after the year 2000. Print the resulting DataFrame.\n",
    "\n",
    "9. **Display DataFrame Information**  \n",
    "   Use DataFrame functions to display the following information:  \n",
    "   - Dimensions of the DataFrame  \n",
    "   - Summary statistics for numerical columns  \n",
    "   - Mean duration of all songs\n",
    "\n",
    "10. **Update the DataFrame**  \n",
    "    Copy your DataFrame using `df.copy()` and perform the following operations on the new DataFrame:  \n",
    "    - Sort the DataFrame by `popularity` in descending order.  \n",
    "    - Remove the `year` column.  \n",
    "    - Rename the `duration` column to `length_seconds`.\n",
    "\n",
    "11. **Group by Genre and Calculate Average Popularity**  \n",
    "    Group the DataFrame by `genre` and calculate the average `popularity` for each genre. Print the result.\n",
    "\n",
    "12. **Concatenate DataFrames**  \n",
    "    Concatenate your DataFrame with the provided `additional_songs` DataFrame into a new DataFrame named `full_library`. Print the resulting DataFrame.\n",
    "\n",
    "13. **Merge DataFrames**  \n",
    "    Create another DataFrame containing your song titles and their corresponding ratings. Merge this DataFrame with `full_library` on the `title` column. Print the resulting DataFrame."
   ]
  },
  {
   "cell_type": "code",
   "execution_count": null,
   "id": "d9472328",
   "metadata": {},
   "outputs": [],
   "source": [
    "import pandas as pd \n",
    "\n",
    "additional_songs = pd.DataFrame({\n",
    "    \"title\": [\"Hotel California\", \"Uptown Funk\"],\n",
    "    \"artist\": [\"Eagles\", \"Mark Ronson ft. Bruno Mars\"] ,\n",
    "    \"genre\": [\"Rock\", \"Pop\"] ,\n",
    "    \"year\": [1976, 2014] ,\n",
    "    \"duration\": [391, 270] ,\n",
    "    \"popularity\": [94, 97]\n",
    "})"
   ]
  },
  {
   "cell_type": "code",
   "execution_count": null,
   "id": "0e00a27d",
   "metadata": {},
   "outputs": [],
   "source": [
    "# Write your code here"
   ]
  },
  {
   "cell_type": "markdown",
   "id": "6190bb02",
   "metadata": {},
   "source": [
    "## Problem 2: Data Visualization (7 points)"
   ]
  },
  {
   "cell_type": "markdown",
   "id": "78c0d7f8",
   "metadata": {},
   "source": [
    "This problem evaluates students' ability to create and customize visualizations using Matplotlib and Seaborn. The tasks focus on generating various types of plots to analyze and present data effectively."
   ]
  },
  {
   "cell_type": "markdown",
   "id": "d8c504fa",
   "metadata": {},
   "source": [
    "1. **Line Chart: Popularity  of Songs per Genre**  \n",
    "   Create a line chart to display the average popularity of songs in each genre. You can use the result of the task 11 from previous problem. Ensure the plot includes a title, x-label, and y-label.\n",
    "   \n",
    "2. **Bar Chart: Number of Songs per Genre**  \n",
    "   Create a bar chart using Matplotlib to visualize the number of songs in each genre. Use the `genre` column for the x-axis and the count of songs for the y-axis. Add a title, x-label, and y-label to the plot.\n",
    "\n",
    "3. **Histogram: Distribution of Song Durations**  \n",
    "   Create a histogram to visualize the distribution of song durations. Use the `duration` column and set the number of bins. Include a title, x-label, and y-label in the plot.\n",
    "\n",
    "4. **Scatter Plot: Song Duration vs. Popularity**  \n",
    "   Create a scatter plot to explore the relationship between song duration and popularity. Add a title, x-label, and y-label to the plot.\n",
    "\n",
    "5. **Pie Chart: Percentage of Songs per Genre**  \n",
    "   Create a pie chart to show the percentage of songs in each genre. Use the `genre` column to group the data. Include a title and labels for each genre in the plot.\n",
    "\n",
    "6. **Heatmap: Popularity of Songs by Artist**  \n",
    "   Using Seaborn, create a heatmap to visualize the popularity of songs by each artist.  Add a title to the plot. You can use the following line to prepare data for plotting: </br> \n",
    "   `df.pivot(index='title', columns='artist', values='popularity')`\n",
    "\n",
    "7. **Customize a Plot**  \n",
    "   Choose any plot from Tasks 1–6 and customize it by:  \n",
    "   - Changing the color scheme.  \n",
    "   - Adding a grid.  \n",
    "   - Adjusting the figure size.  \n",
    "   - Adding annotations (e.g., highlighting the most popular song).\n",
    "   - Choose any other parameters of your choice to change\n"
   ]
  },
  {
   "cell_type": "code",
   "execution_count": null,
   "id": "a6fac715",
   "metadata": {},
   "outputs": [],
   "source": [
    "# Write your code here"
   ]
  },
  {
   "cell_type": "markdown",
   "id": "60e5ce63",
   "metadata": {},
   "source": [
    "## Problem 3: Missing Data (10 points)"
   ]
  },
  {
   "cell_type": "markdown",
   "id": "5c3bca3b",
   "metadata": {},
   "source": [
    "This section outlines tasks related to introducing, identifying, and handling missing values in a DataFrame. The tasks are designed to evaluate your ability to manipulate and clean data effectively."
   ]
  },
  {
   "cell_type": "code",
   "execution_count": null,
   "id": "a78cca85",
   "metadata": {},
   "outputs": [],
   "source": [
    "# Introduce Missing values in Data\n",
    "def introduce_missing_values(df, missing_fraction=0.5):\n",
    "    np.random.seed(42)\n",
    "    total_elements = df.size\n",
    "    num_missing = int(total_elements * missing_fraction)\n",
    "    indices = [(row, col) for row in range(df.shape[0]) for col in range(df.shape[1])]\n",
    "    missing_indices = np.random.choice(len(indices), num_missing, replace=False)\n",
    "    \n",
    "    for i in missing_indices:\n",
    "        row, col = indices[i]\n",
    "        df.iat[row, col] = np.nan\n",
    "    return df"
   ]
  },
  {
   "cell_type": "markdown",
   "id": "7335a631",
   "metadata": {},
   "source": [
    "Using the function provided above, apply it to the full_library DataFrame that you created in the first problem. Use result DataFrame to perform the following tasks"
   ]
  },
  {
   "cell_type": "code",
   "execution_count": null,
   "id": "58f930fa",
   "metadata": {},
   "outputs": [],
   "source": [
    "# Write your code here"
   ]
  },
  {
   "cell_type": "markdown",
   "id": "90a4cb18",
   "metadata": {},
   "source": [
    "1. **Introduce Missing Values**  \n",
    "   Introduce missing values into your DataFrame by assigning `None` to some values in specific columns.\n",
    "\n",
    "2. **Check for Missing Values**  \n",
    "   Check if there are any missing values in your chosen column in the DataFrame.\n",
    "\n",
    "3. **Check for Missing Values in the Entire DataFrame**  \n",
    "   Check if there are any missing values present anywhere in the entire DataFrame.\n",
    "\n",
    "4. **Count Missing Values per Column**  \n",
    "   Count the number of missing values in each column of the DataFrame.\n",
    "\n",
    "5. **Replace Missing Values with Mean**  \n",
    "   Given the DataFrame, replace the missing values in the `popularity` column with the mean value of that column.\n",
    "\n",
    "6. **Replace Missing Values with Median**  \n",
    "   Using the same DataFrame, replace the missing values in the `duration` column with the median value of that column.\n",
    "\n",
    "7. **Replace Missing Values with a Default String**  \n",
    "   Given the DataFrame, replace all missing values in the `genre` column with the string `'Unknown'`.\n",
    "\n",
    "8. **Drop Rows with Missing Values**  \n",
    "   Identify and remove rows where the `artist` column contains missing values, and print the rows that were dropped as part of this operation.\n",
    "   \n",
    "9. **Backward Fill Missing Values**  \n",
    "   Using the same DataFrame, apply method to backward fill the missing values in the `year` column.\n",
    "\n",
    "10. **Identifying Missing Values in Everyday Scenarios**  </br>\n",
    "   Provide three examples from your personal experiences or observations where missing or incomplete data occurs. Explain the context briefly and highlight how the absence of data impacts the situation."
   ]
  },
  {
   "cell_type": "code",
   "execution_count": null,
   "id": "5dab2b4d",
   "metadata": {},
   "outputs": [],
   "source": [
    "# Write your code here"
   ]
  },
  {
   "cell_type": "markdown",
   "id": "e29fd25a",
   "metadata": {},
   "source": [
    "## Problem 4: Data Analysis (10 points) \n"
   ]
  },
  {
   "cell_type": "markdown",
   "id": "c4146944",
   "metadata": {},
   "source": [
    "This section outlines a series of tasks designed to analyze, manipulate, and clean data in a DataFrame. The tasks focus on calculating statistics, grouping data, identifying outliers, generating random data, and cleaning text columns."
   ]
  },
  {
   "cell_type": "markdown",
   "id": "9c08651f",
   "metadata": {},
   "source": [
    "\n",
    "1. **Calculate Basic Statistics**  \n",
    "   Compute basic statistics (mean, median, standard deviation, etc.) for the `duration` column. Using either NumPy, Statistics or Pandas library\n",
    "\n",
    "2. **Group Data and Calculate Max Popularity**  \n",
    "   Group the data by the `genre` column and calculate the max `popularity` for each group.\n",
    "   \n",
    "3. **Calculate Mean, Count, and Sum by Genre**  \n",
    "    For each unique genre in the `genre` column, calculate the mean, count, and sum of the `duration` values.\n",
    "\n",
    "4. **Create a Boxplot for Outlier Visualization**  \n",
    "   Generate a boxplot for the `duration` column to visually identify outliers. Write the data points that are classified as outliers to a new DataFrame or output them for review.\n",
    "\n",
    "5. **Create a Scatter Plot for Outlier Visualization**  \n",
    "   Create a scatter plot of `year` vs. `popularity` to visually identify outliers. Write the data points that are classified as outliers to a new DataFrame or output them for review.\n",
    "   \n",
    "6. **Find and Remove Duplicate Rows**  \n",
    "    Identify and print the number of duplicate rows in the DataFrame, then remove them to retain only unique entries.\n",
    "\n",
    "7. **Find Unique Values in the Genre Column**  \n",
    "   Extract and display all unique values in the `genre` column.\n",
    "\n",
    "8. **Clean the Column**  \n",
    "   Clean one of the object type column by converting all values to lowercase and removing any extra spaces.\n",
    "   \n",
    "9. **Replace a Value in a Column**  \n",
    "    Select a column of your choice and replace one of its existing values with a new value of your specification.\n",
    "\n",
    "10. **Clean the Title Column**  \n",
    "   Remove any extra spaces or symbols (e.g., `!`, `?`, `.`) from the `title` column."
   ]
  },
  {
   "cell_type": "code",
   "execution_count": null,
   "id": "64f46a28",
   "metadata": {},
   "outputs": [],
   "source": [
    "# Write your code here"
   ]
  }
 ],
 "metadata": {
  "kernelspec": {
   "display_name": "Python 3 (ipykernel)",
   "language": "python",
   "name": "python3"
  },
  "language_info": {
   "codemirror_mode": {
    "name": "ipython",
    "version": 3
   },
   "file_extension": ".py",
   "mimetype": "text/x-python",
   "name": "python",
   "nbconvert_exporter": "python",
   "pygments_lexer": "ipython3",
   "version": "3.9.7"
  }
 },
 "nbformat": 4,
 "nbformat_minor": 5
}
